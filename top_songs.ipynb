{
 "cells": [
  {
   "cell_type": "code",
   "execution_count": 39,
   "metadata": {},
   "outputs": [],
   "source": [
    "import requests\n",
    "import json\n",
    "import sqlite3\n",
    "import os\n",
    "from dotenv import load_dotenv"
   ]
  },
  {
   "cell_type": "markdown",
   "metadata": {},
   "source": [
    "## Project: looking at my top 100 songs\n",
    "I am going to use Spotify's API to access 4 playlists: my top 100 songs from 2022, 2023, 2024, and 2025 (migrated from Apple Music). Then, I am going to create different SQL tables with to explore relationships between all of my favorite songs from the past 4 years."
   ]
  },
  {
   "cell_type": "code",
   "execution_count": 40,
   "metadata": {},
   "outputs": [],
   "source": [
    "# # Request a bearer acess token given my Spotify client id / client secret\n",
    "\n",
    "# Load environment variables from .env file\n",
    "load_dotenv()\n",
    "\n",
    "# Retrieve the credentials\n",
    "client_id = os.getenv(\"SPOTIFY_CLIENT_ID\")\n",
    "client_secret = os.getenv(\"SPOTIFY_CLIENT_SECRET\")\n",
    "\n",
    "# Request a bearer access token using the Spotify API\n",
    "url = \"https://accounts.spotify.com/api/token\"\n",
    "data = {\n",
    "    \"grant_type\": \"client_credentials\",\n",
    "    \"client_id\": client_id,\n",
    "    \"client_secret\": client_secret,\n",
    "}\n",
    "\n",
    "response = requests.post(url, data=data)\n",
    "response_data = response.json()\n",
    "\n",
    "authorization = f\"Bearer {response_data['access_token']}\"\n",
    "\n",
    "# Using that authorization, access each playlist\n",
    "# Turn it into text, then turn it into a dictorionary using json.loads\n",
    "\n",
    "# For 2022\n",
    "playlist_2022 = \"https://api.spotify.com/v1/playlists/71zUjPqRk9OxTqpXYEmzlA/tracks\"\n",
    "playlist_2022_info = requests.get(url=playlist_2022, headers={\"Authorization\": authorization})\n",
    "res_2022 = json.loads(playlist_2022_info.text)\n",
    "\n",
    "# For 2023\n",
    "playlist_2023 = \"https://api.spotify.com/v1/playlists/28b3xd3RpAvarZB5PKr6Nx/tracks\"\n",
    "playlist_2023_info = requests.get(\n",
    "    url=playlist_2023, headers={\"Authorization\": authorization}\n",
    ")\n",
    "res_2023 = json.loads(playlist_2023_info.text)\n",
    "\n",
    "# For 2024\n",
    "playlist_2024 = \"https://api.spotify.com/v1/playlists/5P6ptyrOrEwoxn7A3qhC7F/tracks\"\n",
    "playlist_2024_info = requests.get(\n",
    "    url=playlist_2024, headers={\"Authorization\": authorization}\n",
    ")\n",
    "res_2024 = json.loads(playlist_2024_info.text)\n",
    "\n",
    "# For 2025 (so far)\n",
    "playlist_2025 = \"https://api.spotify.com/v1/playlists/0VLFZelqY8r0g544QAy8zv/tracks\"\n",
    "playlist_2025_info = requests.get(\n",
    "    url=playlist_2025, headers={\"Authorization\": authorization}\n",
    ")\n",
    "res_2025 = json.loads(playlist_2025_info.text)"
   ]
  },
  {
   "cell_type": "markdown",
   "metadata": {},
   "source": [
    "### My SQL Plan:\n",
    "- Create table PLAYLISTS to hold information about my four playlists (top 100 songs for 2022, 2023, 2024, 2025)\n",
    "- Create table SONGS to hold information about the unique songs in all of these playlists\n",
    "- Create table SONG ON PLAYLIST to relate the two tables above (song ID and playlist ID will relate this)"
   ]
  },
  {
   "cell_type": "code",
   "execution_count": 41,
   "metadata": {},
   "outputs": [],
   "source": [
    "conn = sqlite3.connect(\"favorite_songs.db\")\n",
    "cursor = conn.cursor()"
   ]
  },
  {
   "cell_type": "code",
   "execution_count": 42,
   "metadata": {},
   "outputs": [],
   "source": [
    "cursor.execute(\"\"\"CREATE TABLE IF NOT EXISTS playlists (\n",
    "               id text,\n",
    "               name text\n",
    "               )\"\"\")\n",
    "\n",
    "cursor.execute(\"INSERT OR IGNORE INTO playlists VALUES ('71zUjPqRk9OxTqpXYEmzlA', 'Replay 2022')\")\n",
    "cursor.execute(\"INSERT OR IGNORE INTO playlists VALUES ('28b3xd3RpAvarZB5PKr6Nx', 'Replay 2023')\")\n",
    "cursor.execute(\"INSERT OR IGNORE INTO playlists VALUES ('5P6ptyrOrEwoxn7A3qhC7F', 'Replay 2024')\")\n",
    "cursor.execute(\"INSERT OR IGNORE INTO playlists VALUES ('0VLFZelqY8r0g544QAy8zv', 'Replay 2025')\")\n",
    "\n",
    "conn.commit()"
   ]
  },
  {
   "cell_type": "code",
   "execution_count": 43,
   "metadata": {},
   "outputs": [],
   "source": [
    "def get_song_info(playlist_res):\n",
    "    \"\"\"Given the dictionary created above, access all of this information\n",
    "    about each song (should be 100 songs) on the playlist.\n",
    "    Return the result as a list of tuples for each song\"\"\"\n",
    "\n",
    "    # Holds all of the tuples, one tuple for each song\n",
    "    song_info = []\n",
    "\n",
    "    # Iterate through each song\n",
    "    for i in range(0, len(playlist_res[\"items\"])):\n",
    "        song_name = playlist_res[\"items\"][i][\"track\"][\"name\"]\n",
    "        song_id = playlist_res[\"items\"][i][\"track\"][\"id\"]\n",
    "        song_artist = playlist_res[\"items\"][i][\"track\"][\"artists\"][0][\"name\"]\n",
    "        song_artist_id = playlist_res[\"items\"][i][\"track\"][\"artists\"][0][\"id\"]\n",
    "        song_runtime = playlist_res[\"items\"][i][\"track\"][\"duration_ms\"]\n",
    "        song_popularity = playlist_res[\"items\"][i][\"track\"][\"popularity\"]\n",
    "        song_album = playlist_res[\"items\"][i][\"track\"][\"album\"][\"name\"]\n",
    "        \n",
    "        # Tuple holding song's info gets appended\n",
    "        full_info = (song_id, song_name, song_artist, song_artist_id, song_runtime, song_popularity, song_album)\n",
    "        song_info.append(full_info)\n",
    "\n",
    "    return song_info"
   ]
  },
  {
   "cell_type": "code",
   "execution_count": 44,
   "metadata": {},
   "outputs": [],
   "source": [
    "# cursor.execute(\n",
    "#     \"\"\"DROP TABLE Songs\"\"\"\n",
    "# )\n",
    "\n",
    "cursor.execute(\n",
    "    \"\"\"CREATE TABLE IF NOT EXISTS Songs (\n",
    "    id text,\n",
    "    name text,\n",
    "    artist text,\n",
    "    artist_id text,\n",
    "    runtime real,\n",
    "    popularity integer,\n",
    "    album text\n",
    "    )\"\"\"\n",
    ")\n",
    "\n",
    "conn.commit()\n",
    "\n",
    "\n",
    "def insert_song_info(playlist_res):\n",
    "    conn = sqlite3.connect(\"favorite_songs.db\")\n",
    "    cursor = conn.cursor()\n",
    "\n",
    "    for song in get_song_info(playlist_res):\n",
    "        id, name, artist, artist_id, runtime, popularity, album = song\n",
    "\n",
    "        try:\n",
    "            cursor.execute(\n",
    "                \"\"\"\n",
    "                INSERT INTO Songs (id, name, artist, artist_id, runtime, popularity, album)\n",
    "                SELECT ?, ?, ?, ?, ?, ?, ?\n",
    "                WHERE NOT EXISTS (\n",
    "                    SELECT 1 FROM Songs WHERE id = ?\n",
    "                )\n",
    "                \"\"\",\n",
    "                (id, name, artist, artist_id, runtime, popularity, album, id),\n",
    "            )\n",
    "            conn.commit()\n",
    "        except sqlite3.Error as e:\n",
    "            print(\"SQLite error:\", e)\n",
    "\n",
    "    cursor.close()\n",
    "    conn.close()\n",
    "\n",
    "\n",
    "# Insert songs for multiple years\n",
    "insert_song_info(res_2022)\n",
    "insert_song_info(res_2023)\n",
    "insert_song_info(res_2024)\n",
    "insert_song_info(res_2025)"
   ]
  },
  {
   "cell_type": "code",
   "execution_count": 45,
   "metadata": {},
   "outputs": [],
   "source": [
    "cursor.execute(\n",
    "  \"\"\"CREATE TABLE IF NOT EXISTS Songs_On_Playlist (\n",
    "  Song_ID text,\n",
    "  Playlist_ID text)\"\"\"\n",
    ")\n",
    "\n",
    "def insert_id_info(playlist_res, playlist_id):\n",
    "    \"\"\"Insert song - playlist ids to establish relationship\"\"\"\n",
    "    conn = sqlite3.connect(\"favorite_songs.db\")\n",
    "    cursor = conn.cursor()\n",
    "\n",
    "    for i in range(len(playlist_res[\"items\"])):\n",
    "        song_id = get_song_info(playlist_res)[i][0]\n",
    "\n",
    "        # Insert only if the song-playlist pair does not already exist\n",
    "        try:\n",
    "            cursor.execute(\n",
    "            \"\"\"\n",
    "            INSERT INTO Songs_On_Playlist (song_id, playlist_id)\n",
    "            SELECT ?, ?\n",
    "            WHERE NOT EXISTS (\n",
    "                SELECT 1 FROM Songs_On_Playlist WHERE song_id = ? AND playlist_id = ?\n",
    "            )\n",
    "            \"\"\",\n",
    "            (song_id, playlist_id, song_id, playlist_id),\n",
    "        )\n",
    "\n",
    "            conn.commit()\n",
    "        except sqlite3.Error as e:\n",
    "            print(\"SQLite error:\", e)\n",
    "        \n",
    "    cursor.close()\n",
    "    conn.close()\n",
    "\n",
    "\n",
    "# Insert song-playlist relationships\n",
    "insert_id_info(res_2022, \"71zUjPqRk9OxTqpXYEmzlA\")\n",
    "insert_id_info(res_2023, \"28b3xd3RpAvarZB5PKr6Nx\")\n",
    "insert_id_info(res_2024, \"5P6ptyrOrEwoxn7A3qhC7F\")\n",
    "insert_id_info(res_2025, \"0VLFZelqY8r0g544QAy8zv\")"
   ]
  },
  {
   "cell_type": "markdown",
   "metadata": {},
   "source": [
    "### Note about genres\n",
    "Unfortunately, Spotify's API doesn't give a genre for a specific song or album, but it does sometimes provide an array of genres given an artist."
   ]
  },
  {
   "cell_type": "code",
   "execution_count": 49,
   "metadata": {},
   "outputs": [
    {
     "name": "stdout",
     "output_type": "stream",
     "text": [
      "('Taylor Swift', 'Pop', 97)\n",
      "('Drake', 'rap', 97)\n"
     ]
    }
   ],
   "source": [
    "def get_artist_info(artist_id):\n",
    "    artist_url = f\"https://api.spotify.com/v1/artists/{artist_id}\"\n",
    "    artist_info = requests.get(\n",
    "      url=artist_url, headers={\"Authorization\": authorization}\n",
    "  )\n",
    "    artist = json.loads(artist_info.text)[\"name\"]\n",
    "    genre = json.loads(artist_info.text)[\"genres\"]\n",
    "\n",
    "    if artist == \"Taylor Swift\":\n",
    "        genre = 'Pop'\n",
    "    elif genre == []:\n",
    "        genre = \"None\"\n",
    "    else:\n",
    "        genre = genre[0]\n",
    "\n",
    "    popularity = json.loads(artist_info.text)[\"popularity\"]\n",
    "    return artist, genre, popularity\n",
    "\n",
    "# Taylor Swift apprently has no genres\n",
    "print(get_artist_info(\"06HL4z0CvFAxyc27GXpf02\"))\n",
    "\n",
    "# Drake has rap and hip hop\n",
    "print(get_artist_info(\"3TVXtAsR1Inumwj472S9r4\"))"
   ]
  },
  {
   "cell_type": "code",
   "execution_count": 50,
   "metadata": {},
   "outputs": [],
   "source": [
    "cursor.execute(\n",
    "  \"\"\"DROP TABLE artists\"\"\"\n",
    ")\n",
    "\n",
    "cursor.execute(\n",
    "  \"\"\"CREATE TABLE IF NOT EXISTS artists (\n",
    "  artist text,\n",
    "  artist_id text,\n",
    "  genre text,\n",
    "  popularity integer)\"\"\"\n",
    ")\n",
    "\n",
    "\n",
    "def insert_artist_info(artist_id):\n",
    "    artist, genre, popularity = get_artist_info(artist_id)\n",
    "\n",
    "    cursor.execute(\n",
    "        \"\"\"\n",
    "        INSERT INTO artists (artist, artist_id, genre, popularity)\n",
    "        SELECT ?, ?, ?, ?\n",
    "        WHERE NOT EXISTS (\n",
    "            SELECT 1 FROM artists WHERE artist_id = ?\n",
    "        )\n",
    "        \"\"\",\n",
    "        (artist, artist_id, genre, popularity, artist_id),  # Now includes 4 values\n",
    "    )\n",
    "    conn.commit()\n",
    "\n",
    "\n",
    "# Get the distinct artists\n",
    "artists = cursor.execute(\n",
    "  \"\"\"SELECT DISTINCT(Songs.artist_id)\n",
    "  FROM Songs\n",
    "  \"\"\"\n",
    ")\n",
    "for artist_id in artists.fetchall():\n",
    "  insert_artist_info(str(artist_id[0]))"
   ]
  },
  {
   "cell_type": "markdown",
   "metadata": {},
   "source": [
    "## Exploration\n",
    "Now that I have these three tables, I would like to do some exploration."
   ]
  },
  {
   "cell_type": "code",
   "execution_count": null,
   "metadata": {},
   "outputs": [
    {
     "data": {
      "text/plain": [
       "[('Replay 2022', 60.18),\n",
       " ('Replay 2023', 54.24),\n",
       " ('Replay 2024', 49.61616161616162),\n",
       " ('Replay 2025', 45.43)]"
      ]
     },
     "execution_count": 114,
     "metadata": {},
     "output_type": "execute_result"
    }
   ],
   "source": [
    "# Get the average popularity of\n",
    "popularity = cursor.execute(\n",
    "  \"\"\"SELECT Playlists.name AS playlist_name, AVG(Songs.popularity) AS avg_popularity\n",
    "  FROM Songs\n",
    "  JOIN Songs_On_Playlist ON Songs.id = Songs_On_Playlist.Song_ID\n",
    "  JOIN Playlists ON Songs_On_Playlist.Playlist_ID = Playlists.id\n",
    "  GROUP BY Playlists.id\n",
    "  ORDER BY avg_popularity DESC\"\"\"\n",
    ")\n",
    "popularity.fetchall()"
   ]
  },
  {
   "cell_type": "markdown",
   "metadata": {},
   "source": [
    "This result suggests that when I was first getting into music in 2022, I listened to more mainstream songs that are still popular today. Then as the years went on, I started refining my music taste."
   ]
  },
  {
   "cell_type": "code",
   "execution_count": null,
   "metadata": {},
   "outputs": [
    {
     "data": {
      "text/plain": [
       "[('First Time', 'Hozier', 54, 3),\n",
       " ('Autumn Leaves - Album Version - (Take 1)', 'Bill Evans Trio', 35, 3),\n",
       " ('Jackie And Wilson', 'Hozier', 64, 3),\n",
       " ('august', 'Taylor Swift', 35, 3),\n",
       " ('cowboy like me', 'Taylor Swift', 62, 3),\n",
       " ('Part Of The Band', 'The 1975', 52, 3),\n",
       " ('Wintering', 'The 1975', 52, 3),\n",
       " ('Happiness', 'The 1975', 61, 3),\n",
       " ('Drops of Jupiter (Tell Me)', 'Train', 81, 3),\n",
       " (\"September In The Rain - Live At Mister Kelly's, Chicago / 1957\",\n",
       "  'Sarah Vaughan',\n",
       "  22,\n",
       "  3),\n",
       " ('Daylight', 'Taylor Swift', 78, 3),\n",
       " ('About You', 'The 1975', 84, 3),\n",
       " ('Lover', 'Taylor Swift', 84, 3),\n",
       " ('All I Need To Hear', 'The 1975', 58, 3),\n",
       " ('Cruel Summer', 'Taylor Swift', 88, 3)]"
      ]
     },
     "execution_count": 115,
     "metadata": {},
     "output_type": "execute_result"
    }
   ],
   "source": [
    "# What songs have been on my replay since 2022?\n",
    "# Basically, I want the songs which have a repeat entry in Songs_On_Playlist (same SongID, different playlistID)\n",
    "consistent_songs = cursor.execute(\n",
    "    \"\"\"SELECT Songs.name, Songs.artist, Songs.popularity, COUNT(*) as Freq\n",
    "  FROM Songs\n",
    "  JOIN Songs_On_Playlist ON Songs.id = Songs_On_Playlist.Song_ID\n",
    "  GROUP BY Songs_On_Playlist.Song_ID\n",
    "  ORDER BY Freq DESC\"\"\"\n",
    ")\n",
    "consistent_songs.fetchmany(15)"
   ]
  },
  {
   "cell_type": "code",
   "execution_count": null,
   "metadata": {},
   "outputs": [
    {
     "data": {
      "text/plain": [
       "(4.197860273224044,)"
      ]
     },
     "execution_count": 116,
     "metadata": {},
     "output_type": "execute_result"
    }
   ],
   "source": [
    "# What is the average length of the songs I like?\n",
    "# Ms to S = divide Ms by 60,000\n",
    "song_lengths = cursor.execute(\n",
    "  \"\"\"SELECT AVG(Songs.runtime)/60000\n",
    "  FROM Songs\"\"\"\n",
    ")\n",
    "\n",
    "song_lengths.fetchone()"
   ]
  },
  {
   "cell_type": "code",
   "execution_count": null,
   "metadata": {},
   "outputs": [
    {
     "data": {
      "text/plain": [
       "[('Midnights (3am Edition)', 12),\n",
       " ('Lover', 10),\n",
       " ('Being Funny In A Foreign Language', 10),\n",
       " ('folklore (deluxe version)', 9),\n",
       " ('reputation', 8),\n",
       " ('eternal sunshine (slightly deluxe)', 7),\n",
       " ('Unreal Unearth', 7),\n",
       " ('The 1975 (Deluxe)', 7),\n",
       " (\"Red (Taylor's Version)\", 6),\n",
       " ('I like it when you sleep, for you are so beautiful yet so unaware of it',\n",
       "  6),\n",
       " (\"Harry's House\", 6),\n",
       " ('Loveseat', 5),\n",
       " ('the record', 4),\n",
       " ('A Brief Inquiry Into Online Relationships', 4),\n",
       " ('1989 (Deluxe)', 4),\n",
       " ('1989', 4),\n",
       " ('SABLE,', 3),\n",
       " (\"Fearless (Taylor's Version)\", 3),\n",
       " ('Come Away With Me (Remastered 2022)', 3),\n",
       " ('Certified Lover Boy', 3)]"
      ]
     },
     "execution_count": 117,
     "metadata": {},
     "output_type": "execute_result"
    }
   ],
   "source": [
    "# How many distinct albums did I listen to?\n",
    "# How many times did I have a favorite from a certain album?\n",
    "# Note to self: HAVING is for use after aggregation (WHERE is not for aggregation)\n",
    "num_albums = cursor.execute(\n",
    "    \"\"\"SELECT Songs.album, COUNT(*) as album_freq\n",
    "       FROM Songs\n",
    "       GROUP BY Songs.album\n",
    "       HAVING album_freq > 2\n",
    "       ORDER BY album_freq DESC\n",
    "    \"\"\"\n",
    ")\n",
    "num_albums.fetchall()"
   ]
  },
  {
   "cell_type": "code",
   "execution_count": null,
   "metadata": {},
   "outputs": [
    {
     "data": {
      "text/plain": [
       "[('Replay 2022', 'Taylor Swift', 480),\n",
       " ('Replay 2023', 'Taylor Swift', 192),\n",
       " ('Replay 2024', 'Taylor Swift', 48),\n",
       " ('Replay 2025', 'Taylor Swift', 16)]"
      ]
     },
     "execution_count": 118,
     "metadata": {},
     "output_type": "execute_result"
    }
   ],
   "source": [
    "# I want to look at how my listening of Taylor Swift has changed over the years\n",
    "taylor_swift = cursor.execute(\n",
    "    \"\"\"SELECT playlists.name, Songs.artist, COUNT(*)\n",
    "       FROM Songs\n",
    "       JOIN Songs_On_Playlist sop ON Songs.id = sop.Song_ID\n",
    "       JOIN playlists ON playlists.id = sop.Playlist_ID\n",
    "       WHERE Songs.artist = 'Taylor Swift'\n",
    "       GROUP BY playlists.name\n",
    "    \"\"\"\n",
    ")\n",
    "\n",
    "taylor_swift.fetchall()"
   ]
  },
  {
   "cell_type": "code",
   "execution_count": null,
   "metadata": {},
   "outputs": [
    {
     "ename": "OperationalError",
     "evalue": "no such column: playlists.name",
     "output_type": "error",
     "traceback": [
      "\u001b[0;31m---------------------------------------------------------------------------\u001b[0m",
      "\u001b[0;31mOperationalError\u001b[0m                          Traceback (most recent call last)",
      "Cell \u001b[0;32mIn[119], line 1\u001b[0m\n\u001b[0;32m----> 1\u001b[0m betty_ts \u001b[38;5;241m=\u001b[39m \u001b[43mcursor\u001b[49m\u001b[38;5;241;43m.\u001b[39;49m\u001b[43mexecute\u001b[49m\u001b[43m(\u001b[49m\n\u001b[1;32m      2\u001b[0m \u001b[38;5;250;43m    \u001b[39;49m\u001b[38;5;124;43;03m\"\"\"SELECT playlists.name, Song.artist, Song.name\u001b[39;49;00m\n\u001b[1;32m      3\u001b[0m \u001b[38;5;124;43;03m    FROM Songs\u001b[39;49;00m\n\u001b[1;32m      4\u001b[0m \u001b[38;5;124;43;03m    JOIN Songs_On_Playlist sop ON Songs.id = sop.Song_ID\u001b[39;49;00m\n\u001b[1;32m      5\u001b[0m \u001b[38;5;124;43;03m    WHERE Songs.name = 'Betty'\u001b[39;49;00m\n\u001b[1;32m      6\u001b[0m \u001b[38;5;124;43;03m\"\"\"\u001b[39;49;00m\n\u001b[1;32m      7\u001b[0m \u001b[43m)\u001b[49m\n\u001b[1;32m      8\u001b[0m betty_ts\u001b[38;5;241m.\u001b[39mfetchall()\n",
      "\u001b[0;31mOperationalError\u001b[0m: no such column: playlists.name"
     ]
    }
   ],
   "source": [
    "betty_ts = cursor.execute(\n",
    "    \"\"\"SELECT playlists.name, Song.artist, Song.name\n",
    "    FROM Songs\n",
    "    JOIN Songs_On_Playlist sop ON Songs.id = sop.Song_ID\n",
    "    WHERE Songs.name = 'Betty'\n",
    "\"\"\"\n",
    ")\n",
    "betty_ts.fetchall()"
   ]
  },
  {
   "cell_type": "code",
   "execution_count": null,
   "metadata": {},
   "outputs": [],
   "source": [
    "conn.close()"
   ]
  },
  {
   "cell_type": "code",
   "execution_count": null,
   "metadata": {},
   "outputs": [],
   "source": []
  }
 ],
 "metadata": {
  "kernelspec": {
   "display_name": "Python 3",
   "language": "python",
   "name": "python3"
  },
  "language_info": {
   "codemirror_mode": {
    "name": "ipython",
    "version": 3
   },
   "file_extension": ".py",
   "mimetype": "text/x-python",
   "name": "python",
   "nbconvert_exporter": "python",
   "pygments_lexer": "ipython3",
   "version": "3.9.6"
  }
 },
 "nbformat": 4,
 "nbformat_minor": 2
}
